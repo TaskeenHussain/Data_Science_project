{
 "cells": [
  {
   "cell_type": "markdown",
   "metadata": {},
   "source": [
    "Supervised machine learning algorithms can be broadly classified into **regression** and **classification** based on the nature of the target variable. Below is a list of common algorithms in each category with short definitions.\n",
    "\n",
    "---\n",
    "\n",
    "### **Regression Algorithms**\n",
    "Used for predicting continuous target variables.\n",
    "\n",
    "1. **Linear Regression**: Fits a linear relationship between the input features and the target variable.\n",
    "2. **Ridge Regression**: A regularized version of linear regression that adds a penalty to the coefficients to prevent overfitting.\n",
    "3. **Lasso Regression**: Similar to ridge regression but uses L1 regularization to shrink some coefficients to zero.\n",
    "4. **Polynomial Regression**: Extends linear regression by fitting a polynomial equation to the data.\n",
    "5. **Support Vector Regression (SVR)**: Uses a margin of tolerance to predict continuous values.\n",
    "6. **Decision Tree Regressor**: Splits the data into regions to make predictions based on decision rules.\n",
    "7. **Random Forest Regressor**: An ensemble of decision trees used to improve prediction accuracy.\n",
    "8. **Gradient Boosting Regressor**: An iterative approach to improve predictions by minimizing errors in previous models.\n",
    "9. **XGBoost Regressor**: A highly efficient and scalable implementation of gradient boosting.\n",
    "10. **K-Nearest Neighbors Regressor (KNN)**: Predicts values based on the average of nearest neighbors.\n",
    "11. **ElasticNet Regression**: Combines L1 (Lasso) and L2 (Ridge) regularization.\n",
    "12. **Bayesian Regression**: Incorporates prior knowledge or beliefs into the regression model.\n",
    "13. **Neural Network Regression**: Uses deep learning to capture complex relationships between inputs and outputs.\n",
    "\n",
    "---\n",
    "\n",
    "### **Classification Algorithms**\n",
    "Used for predicting discrete target variables.\n",
    "\n",
    "1. **Logistic Regression**: Models the probability of the target variable using a logistic function.\n",
    "2. **K-Nearest Neighbors (KNN)**: Classifies based on the majority class of the nearest neighbors.\n",
    "3. **Support Vector Machine (SVM)**: Finds the hyperplane that best separates classes.\n",
    "4. **Decision Tree Classifier**: Splits data into regions based on decision rules.\n",
    "5. **Random Forest Classifier**: An ensemble of decision trees to improve classification accuracy.\n",
    "6. **Gradient Boosting Classifier**: Combines weak learners iteratively to improve classification accuracy.\n",
    "7. **XGBoost Classifier**: A fast and scalable gradient boosting algorithm for classification.\n",
    "8. **Naive Bayes**: Assumes features are independent and predicts using Bayes' theorem.\n",
    "9. **Neural Network Classifier**: Uses multiple layers of neurons to classify complex data.\n",
    "10. **AdaBoost Classifier**: A boosting algorithm that combines weak classifiers into a strong one.\n",
    "11. **Bagging Classifier**: Combines predictions from multiple models to reduce variance.\n",
    "12. **Linear Discriminant Analysis (LDA)**: Projects data onto a line to maximize separation between classes.\n",
    "13. **Quadratic Discriminant Analysis (QDA)**: Similar to LDA but allows for non-linear decision boundaries.\n",
    "14. **CatBoost Classifier**: A gradient boosting algorithm specifically optimized for categorical features.\n",
    "15. **LightGBM Classifier**: A gradient boosting algorithm optimized for speed and efficiency.\n",
    "\n",
    "---\n",
    "\n",
    "### Summary\n",
    "- **Regression Algorithms**: Predict continuous values.\n",
    "- **Classification Algorithms**: Predict categorical labels."
   ]
  },
  {
   "cell_type": "markdown",
   "metadata": {},
   "source": [
    "## how to istall tensorflow\n",
    "# pip install --upgrade pip\n",
    "\n",
    "# pip install tensorflow\n"
   ]
  },
  {
   "cell_type": "markdown",
   "metadata": {},
   "source": [
    "\n",
    "\n",
    "pip install tensorflow --timeout 1000\n",
    "\n",
    "python -c \"import tensorflow as tf; print(tf.__version__)\"\n",
    "\n",
    "\n",
    "\n",
    "python version"
   ]
  },
  {
   "cell_type": "markdown",
   "metadata": {},
   "source": []
  }
 ],
 "metadata": {
  "language_info": {
   "name": "python"
  }
 },
 "nbformat": 4,
 "nbformat_minor": 2
}
